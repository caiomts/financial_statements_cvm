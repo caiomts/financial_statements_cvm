{
 "cells": [
  {
   "cell_type": "markdown",
   "metadata": {},
   "source": []
  },
  {
   "cell_type": "code",
   "execution_count": 1,
   "metadata": {},
   "outputs": [],
   "source": [
    "path = 'raw_data//'\n",
    "def read_files(path):\n",
    "    \"\"\"Create a list of files, read them and return a concatenated dataframe.\"\"\"    \n",
    "    import pandas as pd\n",
    "    import os\n",
    "\n",
    "    files = os.listdir(path)\n",
    "    df = (pd.read_csv(path + f, sep=';',\n",
    "                      encoding='latin-1',\n",
    "                      usecols=['DT_REFER', 'DENOM_CIA', 'ORDEM_EXERC',\n",
    "                               'CD_CVM', 'CD_CONTA', \n",
    "                               'DS_CONTA',\n",
    "                               'VL_CONTA'], parse_dates=['DT_REFER'],\n",
    "                      infer_datetime_format=True) for f in files)\n",
    "    df = pd.concat(df).reindex()\n",
    "    return df[df.ORDEM_EXERC == 'ÚLTIMO']"
   ]
  },
  {
   "cell_type": "code",
   "execution_count": 2,
   "metadata": {},
   "outputs": [
    {
     "output_type": "stream",
     "name": "stdout",
     "text": "<class 'pandas.core.frame.DataFrame'>\nInt64Index: 1727833 entries, 1 to 25653\nData columns (total 7 columns):\n #   Column       Dtype         \n---  ------       -----         \n 0   DT_REFER     datetime64[ns]\n 1   DENOM_CIA    object        \n 2   CD_CVM       int64         \n 3   ORDEM_EXERC  object        \n 4   CD_CONTA     object        \n 5   DS_CONTA     object        \n 6   VL_CONTA     float64       \ndtypes: datetime64[ns](1), float64(1), int64(1), object(4)\nmemory usage: 105.5+ MB\n"
    }
   ],
   "source": [
    "df = read_files(path)\n",
    "df.info()"
   ]
  },
  {
   "cell_type": "code",
   "execution_count": 3,
   "metadata": {},
   "outputs": [],
   "source": [
    "def pivot_df(df, length=4):\n",
    "    \"\"\"Get the dataframe pivoted.\"\"\"\n",
    "    df = df[(df.CD_CONTA.str.len() <= length)]\n",
    "    # Getting last layout as a model\n",
    "    cod_conta = df.loc[df.DT_REFER == max(df.DT_REFER),\n",
    "                      ['CD_CONTA']]\n",
    "    df = df[df.CD_CONTA.isin(cod_conta.CD_CONTA)]\n",
    "    df_pivoted = df.pivot_table(index=['DT_REFER', 'CD_CVM'], columns=['CD_CONTA'], values=['VL_CONTA'])\n",
    "    df_pivoted.columns = df_pivoted.columns.droplevel()\n",
    "    return df_pivoted.dropna(axis=1, how='all')"
   ]
  },
  {
   "cell_type": "code",
   "execution_count": 4,
   "metadata": {},
   "outputs": [],
   "source": [
    "def cod_items(df, length=4):\n",
    "    df = df[(df.CD_CONTA.str.len() <= length)]\n",
    "    return df[['CD_CONTA',\n",
    "               'DS_CONTA']].set_index('CD_CONTA')['DS_CONTA'].sort_index().to_dict()"
   ]
  },
  {
   "cell_type": "code",
   "execution_count": 12,
   "metadata": {},
   "outputs": [],
   "source": [
    "def cod_names():\n",
    "    return df[['CD_CVM',\n",
    "               'DENOM_CIA']].set_index('CD_CVM')['DENOM_CIA'].sort_index().to_dict()"
   ]
  },
  {
   "cell_type": "code",
   "execution_count": 5,
   "metadata": {},
   "outputs": [
    {
     "output_type": "stream",
     "name": "stdout",
     "text": "<class 'pandas.core.frame.DataFrame'>\nMultiIndex: 6379 entries, (Timestamp('2010-12-31 00:00:00'), 94) to (Timestamp('2019-12-31 00:00:00'), 80179)\nData columns (total 30 columns):\n #   Column  Non-Null Count  Dtype  \n---  ------  --------------  -----  \n 0   1       6379 non-null   float64\n 1   1.01    6379 non-null   float64\n 2   1.02    6379 non-null   float64\n 3   1.03    414 non-null    float64\n 4   1.04    194 non-null    float64\n 5   1.05    194 non-null    float64\n 6   1.06    194 non-null    float64\n 7   1.07    194 non-null    float64\n 8   2       6379 non-null   float64\n 9   2.01    6379 non-null   float64\n 10  2.02    6379 non-null   float64\n 11  2.03    6379 non-null   float64\n 12  2.04    194 non-null    float64\n 13  2.05    414 non-null    float64\n 14  2.06    194 non-null    float64\n 15  2.07    194 non-null    float64\n 16  2.08    194 non-null    float64\n 17  3.01    6372 non-null   float64\n 18  3.02    6372 non-null   float64\n 19  3.03    6372 non-null   float64\n 20  3.04    6372 non-null   float64\n 21  3.05    6372 non-null   float64\n 22  3.06    6372 non-null   float64\n 23  3.07    6372 non-null   float64\n 24  3.08    6372 non-null   float64\n 25  3.09    6372 non-null   float64\n 26  3.10    6356 non-null   float64\n 27  3.11    6356 non-null   float64\n 28  3.12    23 non-null     float64\n 29  3.13    420 non-null    float64\ndtypes: float64(30)\nmemory usage: 1.5 MB\n"
    }
   ],
   "source": [
    "df_pivoted = pivot_df(df, length=4)\n",
    "df_pivoted.info()"
   ]
  },
  {
   "cell_type": "code",
   "execution_count": 6,
   "metadata": {},
   "outputs": [
    {
     "output_type": "execute_result",
     "data": {
      "text/plain": "{'1': 'Ativo Total',\n '1.01': 'Ativo Circulante',\n '1.02': 'Ativo Não Circulante',\n '1.03': 'Ativo Permanente',\n '1.04': 'Tributos Diferidos',\n '1.05': 'Outros Ativos',\n '1.06': 'Investimentos',\n '1.07': 'Imobilizado',\n '1.08': 'Intangível',\n '2': 'Passivo Total',\n '2.01': 'Passivo Circulante',\n '2.02': 'Passivo Não Circulante',\n '2.03': 'Patrimônio Líquido Consolidado',\n '2.04': 'Provisões',\n '2.05': 'Passivos Fiscais',\n '2.06': 'Outros Passivos',\n '2.07': 'Passivos sobre Ativos Não Correntes a Venda e Descontinuados',\n '2.08': 'Patrimônio Líquido Consolidado',\n '3.01': 'Receita de Venda de Bens e/ou Serviços',\n '3.02': 'Custo dos Bens e/ou Serviços Vendidos',\n '3.03': 'Resultado Bruto',\n '3.04': 'Despesas/Receitas Operacionais',\n '3.05': 'Resultado Antes do Resultado Financeiro e dos Tributos',\n '3.06': 'Resultado Financeiro',\n '3.07': 'Resultado Antes dos Tributos sobre o Lucro',\n '3.08': 'Provisão para IR e Contribuição Social',\n '3.09': 'Resultado Líquido das Operações Continuadas',\n '3.10': 'Resultado Líquido de Operações Descontinuadas',\n '3.11': 'Reversão dos Juros sobre Capital Próprio',\n '3.12': 'Resultado Líquido de Operações Descontinuadas',\n '3.13': 'Lucro/Prejuízo do Período'}"
     },
     "metadata": {},
     "execution_count": 6
    }
   ],
   "source": [
    "cod_items(df, length=4)"
   ]
  },
  {
   "cell_type": "code",
   "execution_count": 23,
   "metadata": {},
   "outputs": [
    {
     "output_type": "stream",
     "name": "stdout",
     "text": "CD_CONTA                     1        1.01         1.02\nDT_REFER   CD_CVM                                      \n2011-12-31 5983        25784.0      3107.5      22676.5\n2016-12-31 14613       17600.0        37.0      17563.0\n2012-12-31 22390         101.0       101.0          0.0\n2013-12-31 20524     3851074.5   1744848.0    2106226.5\n2010-12-31 2909       522417.0    286444.5     235972.5\n2016-12-31 21520      822446.5     91631.0     730815.5\n2012-12-31 22934       57217.0     57217.0          0.0\n2010-12-31 20974     1257475.5    422941.0     834534.5\n           5410      5523579.0   2773280.5    2750298.5\n2011-12-31 5410      6461108.0   3225753.0    3235355.0\n2013-12-31 6343      4338218.5   1691015.0    2647203.5\n2015-12-31 22217      463843.5     55821.5     408022.0\n           2437    122404301.5  21898276.5  100506025.0\n2010-12-31 21059         273.0       273.0          0.0\n           8451      2583033.0   1651135.5     931897.5\n2014-12-31 14605     4402872.0   1368666.0    3034206.0\n2013-12-31 20451     1854207.5   1043785.5     810422.0\n2017-12-31 23531    36287877.5   4055277.0   32232600.5\n2015-12-31 8451      4402756.0   2490593.5    1912162.5\n2018-12-31 21997     2863113.0     40363.0    2822750.0\n"
    }
   ],
   "source": [
    "print(df_pivoted.sample(20).iloc[:,0:3])"
   ]
  },
  {
   "cell_type": "code",
   "execution_count": null,
   "metadata": {},
   "outputs": [],
   "source": [
    "df_pivoted['Current_Ratio'] = df_pivoted['1.01']/df_pivoted['2.01']"
   ]
  },
  {
   "cell_type": "code",
   "execution_count": 28,
   "metadata": {},
   "outputs": [
    {
     "output_type": "execute_result",
     "data": {
      "text/plain": "DT_REFER    CD_CVM\n2010-12-31  94        2.366105\n            140       1.679680\n            701       5.773780\n            906       1.261044\n            922       0.762841\n                        ...   \n2019-12-31  24880     1.054207\n            80020     8.745793\n            80047     1.491686\n            80152          NaN\n            80179     1.355918\nLength: 6379, dtype: float64"
     },
     "metadata": {},
     "execution_count": 28
    }
   ],
   "source": [
    "df_pivoted['1.01']/df_pivoted['2.01']"
   ]
  }
 ],
 "metadata": {
  "language_info": {
   "codemirror_mode": {
    "name": "ipython",
    "version": 3
   },
   "file_extension": ".py",
   "mimetype": "text/x-python",
   "name": "python",
   "nbconvert_exporter": "python",
   "pygments_lexer": "ipython3",
   "version": "3.7.6-final"
  },
  "orig_nbformat": 2,
  "kernelspec": {
   "name": "python3",
   "display_name": "Python 3"
  }
 },
 "nbformat": 4,
 "nbformat_minor": 2
}